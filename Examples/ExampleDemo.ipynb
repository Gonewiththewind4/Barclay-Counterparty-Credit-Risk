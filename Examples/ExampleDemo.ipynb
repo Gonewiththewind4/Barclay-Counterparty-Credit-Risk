{
 "cells": [
  {
   "cell_type": "markdown",
   "metadata": {},
   "source": [
    "# Counterparty Credit Risk Exercise\n",
    "\n",
    "## 1. Getting the Data\n",
    "### Exercise 1 \n",
    "\n",
    "Create a Pandas data frame containing historical FX rates from Jan 1 2013-Dec 31 2015 for each of the 7 major currencies(EUR/JPY/USD/GBP/CHF/AUD/CAD). We will use GBP as our base currency, so the values in each series should be the amount of that currency that is equal to 1 GBP."
   ]
  },
  {
   "cell_type": "code",
   "execution_count": null,
   "metadata": {},
   "outputs": [],
   "source": []
  }
 ],
 "metadata": {
  "kernelspec": {
   "display_name": "Python 3",
   "language": "python",
   "name": "python3"
  },
  "language_info": {
   "codemirror_mode": {
    "name": "ipython",
    "version": 3
   },
   "file_extension": ".py",
   "mimetype": "text/x-python",
   "name": "python",
   "nbconvert_exporter": "python",
   "pygments_lexer": "ipython3",
   "version": "3.6.5"
  }
 },
 "nbformat": 4,
 "nbformat_minor": 2
}
