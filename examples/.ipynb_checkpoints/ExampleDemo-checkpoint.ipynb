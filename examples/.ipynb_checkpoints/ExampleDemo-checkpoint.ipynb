{
 "cells": [
  {
   "cell_type": "markdown",
   "metadata": {},
   "source": [
    "# Counterparty Credit Risk Exercise\n",
    "\n",
    "## 1. Getting the Data\n",
    "### Exercise 1 \n",
    "\n",
    "Create a Pandas data frame containing historical FX rates from Jan 1 2013-Dec 31 2015 for each of the 7 major currencies(EUR/JPY/USD/GBP/CHF/AUD/CAD). We will use GBP as our base currency, so the values in each series should be the amount of that currency that is equal to 1 GBP."
   ]
  },
  {
   "cell_type": "markdown",
   "metadata": {},
   "source": [
    "(Historical data comes from the website: https://www.ecb.europa.eu/stats/policy_and_exchange_rates/euro_reference_exchange_rates/html/index.en.html)"
   ]
  },
  {
   "cell_type": "code",
   "execution_count": 3,
   "metadata": {},
   "outputs": [],
   "source": [
    "import pandas as pd\n",
    "import numpy as np"
   ]
  },
  {
   "cell_type": "code",
   "execution_count": 9,
   "metadata": {
    "scrolled": true
   },
   "outputs": [],
   "source": [
    "#load the whole data\n",
    "index = [\"Date\",\"EUR\",\"JPY\",\"USD\",\"GBP\",\"CHF\",\"AUD\",\"CAD\"]\n",
    "dataBasic = pd.read_csv(\"eurofxref-hist.csv\")\n"
   ]
  },
  {
   "cell_type": "code",
   "execution_count": 10,
   "metadata": {},
   "outputs": [],
   "source": [
    "#get the EUR data with changed process with respect to GBP = 1\n",
    "dataEUR = dataBasic[\"GBP\"]\n",
    "dataInUseForEUR = 1./dataEUR"
   ]
  },
  {
   "cell_type": "code",
   "execution_count": 11,
   "metadata": {},
   "outputs": [],
   "source": [
    "#form an in use dataframe\n",
    "    \n",
    "dataInUseTemp = dataBasic[[\"Date\",\"JPY\",\"USD\",\"GBP\",\"CHF\",\"AUD\",\"CAD\"]]\n",
    " \n",
    "temp = 1/dataBasic[\"GBP\"]\n",
    "dataForOtherTemp = dataBasic[[\"JPY\",\"USD\",\"GBP\",\"CHF\",\"AUD\",\"CAD\"]]\n",
    "dataForOtherTemp = dataForOtherTemp.mul(temp,axis = 0)\n",
    "dataForOtherTemp.insert(0,'EUR',dataInUseForEUR)\n",
    "dataForOtherTemp.insert(0,'Date',dataBasic['Date'])\n",
    "dataInTime = dataForOtherTemp\n",
    "     \n",
    "dataInTime = dataInTime[dataInTime['Date'] < '2016-01-01']\n",
    "dataInTime = dataInTime[dataInTime['Date'] > '2012-12-31']\n",
    "dataWithoutTime = dataInTime[[\"EUR\",\"JPY\",\"USD\",\"GBP\",\"CHF\",\"AUD\",\"CAD\"]]\n",
    "temp1 = dataWithoutTime"
   ]
  },
  {
   "cell_type": "code",
   "execution_count": 13,
   "metadata": {},
   "outputs": [
    {
     "name": "stderr",
     "output_type": "stream",
     "text": [
      "C:\\Program Files (x86)\\Microsoft Visual Studio\\Shared\\Anaconda3_64\\lib\\site-packages\\ipykernel_launcher.py:3: SettingWithCopyWarning: \n",
      "A value is trying to be set on a copy of a slice from a DataFrame.\n",
      "Try using .loc[row_indexer,col_indexer] = value instead\n",
      "\n",
      "See the caveats in the documentation: http://pandas.pydata.org/pandas-docs/stable/indexing.html#indexing-view-versus-copy\n",
      "  This is separate from the ipykernel package so we can avoid doing imports until\n",
      "C:\\Program Files (x86)\\Microsoft Visual Studio\\Shared\\Anaconda3_64\\lib\\site-packages\\ipykernel_launcher.py:4: RuntimeWarning: divide by zero encountered in log\n",
      "  after removing the cwd from sys.path.\n",
      "C:\\Program Files (x86)\\Microsoft Visual Studio\\Shared\\Anaconda3_64\\lib\\site-packages\\ipykernel_launcher.py:4: RuntimeWarning: invalid value encountered in log\n",
      "  after removing the cwd from sys.path.\n",
      "C:\\Program Files (x86)\\Microsoft Visual Studio\\Shared\\Anaconda3_64\\lib\\site-packages\\ipykernel_launcher.py:4: SettingWithCopyWarning: \n",
      "A value is trying to be set on a copy of a slice from a DataFrame.\n",
      "Try using .loc[row_indexer,col_indexer] = value instead\n",
      "\n",
      "See the caveats in the documentation: http://pandas.pydata.org/pandas-docs/stable/indexing.html#indexing-view-versus-copy\n",
      "  after removing the cwd from sys.path.\n"
     ]
    }
   ],
   "source": [
    "#log returns \n",
    "for i in range(len(index)-1):\n",
    "    temp1[index[i+1]] = dataWithoutTime[index[i+1]]/dataWithoutTime[index[i+1]].shift(-1)\n",
    "    temp1[index[i+1]] = np.log(temp1[index[i+1]])\n"
   ]
  },
  {
   "cell_type": "code",
   "execution_count": null,
   "metadata": {},
   "outputs": [],
   "source": [
    "logReturn = temp1\n",
    "Corr = logReturn.corr"
   ]
  }
 ],
 "metadata": {
  "kernelspec": {
   "display_name": "Python 3",
   "language": "python",
   "name": "python3"
  },
  "language_info": {
   "codemirror_mode": {
    "name": "ipython",
    "version": 3
   },
   "file_extension": ".py",
   "mimetype": "text/x-python",
   "name": "python",
   "nbconvert_exporter": "python",
   "pygments_lexer": "ipython3",
   "version": "3.6.5"
  }
 },
 "nbformat": 4,
 "nbformat_minor": 2
}
